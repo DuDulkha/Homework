{
 "cells": [
  {
   "cell_type": "markdown",
   "metadata": {},
   "source": [
    "####### Task 1 #######"
   ]
  },
  {
   "cell_type": "code",
   "execution_count": 2,
   "metadata": {},
   "outputs": [
    {
     "name": "stdout",
     "output_type": "stream",
     "text": [
      "Hi:\n"
     ]
    },
    {
     "data": {
      "text/plain": [
       "11"
      ]
     },
     "execution_count": 2,
     "metadata": {},
     "output_type": "execute_result"
    }
   ],
   "source": [
    "## Question 1 ## \n",
    "def my_func(x):\n",
    "    print(\"Hi:\")\n",
    "    x=x+1\n",
    "    return x\n",
    "my_func(10)"
   ]
  },
  {
   "cell_type": "code",
   "execution_count": 3,
   "metadata": {},
   "outputs": [
    {
     "name": "stdout",
     "output_type": "stream",
     "text": [
      "Hi:\n"
     ]
    },
    {
     "data": {
      "text/plain": [
       "(6, 2000, 10000)"
      ]
     },
     "execution_count": 3,
     "metadata": {},
     "output_type": "execute_result"
    }
   ],
   "source": [
    "## Question 2 ## \n",
    "def my_func1(x,y=30,z=20):\n",
    "    print(\"Hi:\")\n",
    "    x=x+1\n",
    "    y=y*2\n",
    "    z=z*10\n",
    "    return x, y, z\n",
    "my_func1(5, y=1000,z=1000)"
   ]
  },
  {
   "cell_type": "code",
   "execution_count": 5,
   "metadata": {},
   "outputs": [
    {
     "name": "stdout",
     "output_type": "stream",
     "text": [
      "In ascending order:\n"
     ]
    },
    {
     "data": {
      "text/plain": [
       "[1, 3, 10, 13, 22, 26, 33, 44, 55]"
      ]
     },
     "execution_count": 5,
     "metadata": {},
     "output_type": "execute_result"
    }
   ],
   "source": [
    "## Question 3 ## \n",
    "def my_func2(*x):\n",
    "    print(\"In ascending order:\")\n",
    "    x=sorted(x)\n",
    "    return x\n",
    "my_func2(10,55,33,44,22,3,1,26,13)"
   ]
  },
  {
   "cell_type": "code",
   "execution_count": null,
   "metadata": {},
   "outputs": [],
   "source": []
  }
 ],
 "metadata": {
  "kernelspec": {
   "display_name": "base",
   "language": "python",
   "name": "python3"
  },
  "language_info": {
   "codemirror_mode": {
    "name": "ipython",
    "version": 3
   },
   "file_extension": ".py",
   "mimetype": "text/x-python",
   "name": "python",
   "nbconvert_exporter": "python",
   "pygments_lexer": "ipython3",
   "version": "3.11.5"
  }
 },
 "nbformat": 4,
 "nbformat_minor": 2
}
