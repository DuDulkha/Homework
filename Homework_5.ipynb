{
 "cells": [
  {
   "cell_type": "markdown",
   "metadata": {},
   "source": [
    "####### Task 1 #######"
   ]
  },
  {
   "cell_type": "code",
   "execution_count": 2,
   "metadata": {},
   "outputs": [
    {
     "name": "stdout",
     "output_type": "stream",
     "text": [
      "Hi:\n"
     ]
    },
    {
     "data": {
      "text/plain": [
       "11"
      ]
     },
     "execution_count": 2,
     "metadata": {},
     "output_type": "execute_result"
    }
   ],
   "source": [
    "## Question 1 ## \n",
    "def my_func(x):\n",
    "    print(\"Hi:\")\n",
    "    x=x+1\n",
    "    return x\n",
    "my_func(10)"
   ]
  },
  {
   "cell_type": "code",
   "execution_count": 42,
   "metadata": {},
   "outputs": [
    {
     "name": "stdout",
     "output_type": "stream",
     "text": [
      "Hi:\n"
     ]
    },
    {
     "data": {
      "text/plain": [
       "(6, 2000, 10000)"
      ]
     },
     "execution_count": 42,
     "metadata": {},
     "output_type": "execute_result"
    }
   ],
   "source": [
    "## Question 2 ## \n",
    "def my_func1(x,y=30,z=20):\n",
    "    print(\"Hi:\")\n",
    "    x=x+1\n",
    "    y=y*2\n",
    "    z=z*10\n",
    "    return x, y, z\n",
    "my_func1(5, y=1000,z=1000)"
   ]
  },
  {
   "cell_type": "code",
   "execution_count": 35,
   "metadata": {},
   "outputs": [
    {
     "data": {
      "text/plain": [
       "[1, 3, 10, 13, 22, 26, 33, 44, 55]"
      ]
     },
     "execution_count": 35,
     "metadata": {},
     "output_type": "execute_result"
    }
   ],
   "source": [
    "## Question 3 ## \n",
    "def my_func2(*x):\n",
    "    #print(\"In ascending order:\")\n",
    "    x=sorted(x)\n",
    "    return x\n",
    "my_func2(10,55,33,44,22,3,1,26,13)"
   ]
  },
  {
   "cell_type": "code",
   "execution_count": 46,
   "metadata": {},
   "outputs": [
    {
     "name": "stdout",
     "output_type": "stream",
     "text": [
      "hi\n",
      "Nothing to do with x and y\n",
      "5000\n"
     ]
    }
   ],
   "source": [
    "## Question 4 ## \n",
    "def my_func3(**kwargs):\n",
    "    print(\"hi\")\n",
    "    if 'x' in kwargs.keys():\n",
    "        print(\"x exists\", kwargs['x']*50) \n",
    "    elif 'y' in kwargs.keys():\n",
    "        print(\"y exists\", kwargs['y']*100)\n",
    "    else: \n",
    "        print(\"Nothing to do with x and y\")\n",
    "    return kwargs['z']*100\n",
    "print(my_func3(z=50))"
   ]
  },
  {
   "cell_type": "code",
   "execution_count": 36,
   "metadata": {},
   "outputs": [
    {
     "name": "stdout",
     "output_type": "stream",
     "text": [
      "Max value is: \n",
      "102\n"
     ]
    }
   ],
   "source": [
    "## Question 5 ## \n",
    "def max_value(*x):\n",
    "    print(\"Max value is: \")\n",
    "    sorted_x=my_func2(*x)\n",
    "    return sorted_x[-1]\n",
    "print(max_value(102,32,45,78,56,78,45,12,32,45))\n",
    "\n"
   ]
  },
  {
   "cell_type": "code",
   "execution_count": 49,
   "metadata": {},
   "outputs": [
    {
     "name": "stdout",
     "output_type": "stream",
     "text": [
      "hi\n",
      "Nothing to do with x and y\n",
      "Hi:\n"
     ]
    },
    {
     "data": {
      "text/plain": [
       "100001"
      ]
     },
     "execution_count": 49,
     "metadata": {},
     "output_type": "execute_result"
    }
   ],
   "source": [
    "## Question 6 ## \n",
    "def my_func4(**kwargs):\n",
    "    kwargs=my_func3(**kwargs)\n",
    "    return my_func(kwargs)\n",
    "my_func4(z=1000)"
   ]
  },
  {
   "cell_type": "markdown",
   "metadata": {},
   "source": [
    "####### Task 2 #######\n",
    "\n",
    "Mini ATM machine"
   ]
  },
  {
   "cell_type": "code",
   "execution_count": 9,
   "metadata": {},
   "outputs": [
    {
     "name": "stdout",
     "output_type": "stream",
     "text": [
      "Hello!!! Welcome to the Mini ATM Machine\n",
      "\n",
      "Amount Deposited: 500.0\n",
      "\n",
      "You Withdrew: 100.0\n",
      "\n",
      "Net Available Balance = 1400.0\n"
     ]
    }
   ],
   "source": [
    "class Bank_Account:\n",
    "    def __init__(self, initial_balance=1000):\n",
    "        self.balance = initial_balance\n",
    "        print(\"Hello!!! Welcome to the Mini ATM Machine\")   \n",
    "    \n",
    "    def account(self):\n",
    "        bank_account = input(\"Enter Account Number: \")\n",
    "        password = input(\"Enter Your Password: \")\n",
    "        if bank_account == \"5040302010\" and password == \"B123456\":\n",
    "            return True  # Return True if credentials are correct\n",
    "        else:\n",
    "            return False  # Return False if credentials are incorrect\n",
    "    \n",
    "    def deposit(self):\n",
    "        amount = float(input(\"Enter amount to be Deposited: \"))\n",
    "        self.balance += amount\n",
    "        print(\"\\nAmount Deposited:\", amount)\n",
    "\n",
    "    def withdraw(self):\n",
    "        amount = float(input(\"Enter amount to be Withdrawn: \"))\n",
    "        if self.balance >= amount:\n",
    "            self.balance -= amount\n",
    "            print(\"\\nYou Withdrew:\", amount)\n",
    "        else:\n",
    "            print(\"\\nInsufficient balance\")\n",
    "\n",
    "    def display(self):\n",
    "        print(\"\\nNet Available Balance =\", self.balance)\n",
    "\n",
    "\n",
    "atm = Bank_Account()\n",
    "if atm.account():\n",
    "    atm.deposit()\n",
    "    atm.withdraw()\n",
    "    atm.display()\n",
    "else:\n",
    "    print(\"Invalid account credentials. Try again later...\")"
   ]
  },
  {
   "cell_type": "code",
   "execution_count": 109,
   "metadata": {},
   "outputs": [
    {
     "name": "stdout",
     "output_type": "stream",
     "text": [
      "c:\\Users\\dudul\\OneDrive\\Documents\\Dudu\\Programming\\Py4Econ\\Homework\n",
      "['c:\\\\Users\\\\dudul\\\\OneDrive\\\\Documents\\\\Dudu\\\\Programming\\\\Py4Econ\\\\Homework', 'c:\\\\ProgramData\\\\anaconda3\\\\python311.zip', 'c:\\\\ProgramData\\\\anaconda3\\\\DLLs', 'c:\\\\ProgramData\\\\anaconda3\\\\Lib', 'c:\\\\ProgramData\\\\anaconda3', '', 'C:\\\\Users\\\\dudul\\\\AppData\\\\Roaming\\\\Python\\\\Python311\\\\site-packages', 'c:\\\\ProgramData\\\\anaconda3\\\\Lib\\\\site-packages', 'c:\\\\ProgramData\\\\anaconda3\\\\Lib\\\\site-packages\\\\win32', 'c:\\\\ProgramData\\\\anaconda3\\\\Lib\\\\site-packages\\\\win32\\\\lib', 'c:\\\\ProgramData\\\\anaconda3\\\\Lib\\\\site-packages\\\\Pythonwin', 'c:\\\\Users\\\\dudul\\\\OneDrive\\\\Documents\\\\Dudu\\\\Programming\\\\Py4Econ\\\\Homework\\\\module_box', 'c:\\\\Users\\\\dudul\\\\OneDrive\\\\Documents\\\\Dudu\\\\Programming\\\\Py4Econ\\\\Homework\\\\module_box', 'c:\\\\Users\\\\dudul\\\\OneDrive\\\\Documents\\\\Dudu\\\\Programming\\\\Py4Econ\\\\Homework\\\\Modules', 'c:\\\\Users\\\\dudul\\\\OneDrive\\\\Documents\\\\Dudu\\\\Programming\\\\Py4Econ\\\\Homework\\\\Modules', 'c:\\\\Users\\\\dudul\\\\OneDrive\\\\Documents\\\\Dudu\\\\Programming\\\\Py4Econ\\\\Homework\\\\Modules', 'c:\\\\Users\\\\dudul\\\\OneDrive\\\\Documents\\\\Dudu\\\\Programming\\\\Py4Econ\\\\Homework\\\\Modules', 'c:\\\\Users\\\\dudul\\\\OneDrive\\\\Documents\\\\Dudu\\\\Programming\\\\Py4Econ\\\\Homework\\\\Modules', 'c:\\\\Users\\\\dudul\\\\OneDrive\\\\Documents\\\\Dudu\\\\Programming\\\\Py4Econ\\\\Homework\\\\Modules', 'c:\\\\Users\\\\dudul\\\\OneDrive\\\\Documents\\\\Dudu\\\\Programming\\\\Py4Econ\\\\Homework\\\\Modules', 'c:\\\\Users\\\\dudul\\\\OneDrive\\\\Documents\\\\Dudu\\\\Programming\\\\Py4Econ\\\\Homework\\\\Modules', 'c:\\\\Users\\\\dudul\\\\OneDrive\\\\Documents\\\\Dudu\\\\Programming\\\\Py4Econ\\\\Homework\\\\Modules', 'c:\\\\Users\\\\dudul\\\\OneDrive\\\\Documents\\\\Dudu\\\\Programming\\\\Py4Econ\\\\Homework\\\\Modules', 'c:\\\\Users\\\\dudul\\\\OneDrive\\\\Documents\\\\Dudu\\\\Programming\\\\Py4Econ\\\\Homework\\\\Modules', 'c:\\\\Users\\\\dudul\\\\OneDrive\\\\Documents\\\\Dudu\\\\Programming\\\\Py4Econ\\\\Homework\\\\Modules', 'c:\\\\Users\\\\dudul\\\\OneDrive\\\\Documents\\\\Dudu\\\\Programming\\\\Py4Econ\\\\Homework\\\\Modules', 'c:\\\\Users\\\\dudul\\\\OneDrive\\\\Documents\\\\Dudu\\\\Programming\\\\Py4Econ\\\\Homework\\\\Modules', 'c:\\\\Users\\\\dudul\\\\OneDrive\\\\Documents\\\\Dudu\\\\Programming\\\\Py4Econ\\\\Homework\\\\Modules', 'c:\\\\Users\\\\dudul\\\\OneDrive\\\\Documents\\\\Dudu\\\\Programming\\\\Py4Econ\\\\Homework\\\\Modules', 'c:\\\\Users\\\\dudul\\\\OneDrive\\\\Documents\\\\Dudu\\\\Programming\\\\Py4Econ\\\\Homework\\\\Modules', 'c:\\\\Users\\\\dudul\\\\OneDrive\\\\Documents\\\\Dudu\\\\Programming\\\\Py4Econ\\\\Homework\\\\Modules', 'c:\\\\Users\\\\dudul\\\\OneDrive\\\\Documents\\\\Dudu\\\\Programming\\\\Py4Econ\\\\Homework\\\\Modules', 'c:\\\\Users\\\\dudul\\\\OneDrive\\\\Documents\\\\Dudu\\\\Programming\\\\Py4Econ\\\\Homework\\\\Modules', 'c:\\\\Users\\\\dudul\\\\OneDrive\\\\Documents\\\\Dudu\\\\Programming\\\\Py4Econ\\\\Homework\\\\Modules', 'c:\\\\Users\\\\dudul\\\\OneDrive\\\\Documents\\\\Dudu\\\\Programming\\\\Py4Econ\\\\Homework\\\\Modules', 'c:\\\\Users\\\\dudul\\\\OneDrive\\\\Documents\\\\Dudu\\\\Programming\\\\Py4Econ\\\\Homework\\\\Modules', 'c:\\\\Users\\\\dudul\\\\OneDrive\\\\Documents\\\\Dudu\\\\Programming\\\\Py4Econ\\\\Homework\\\\Modules', 'c:\\\\Users\\\\dudul\\\\OneDrive\\\\Documents\\\\Dudu\\\\Programming\\\\Py4Econ\\\\Homework\\\\Modules', 'c:\\\\Users\\\\dudul\\\\OneDrive\\\\Documents\\\\Dudu\\\\Programming\\\\Py4Econ\\\\Homework\\\\Modules', 'c:\\\\\\\\Users\\\\dudul\\\\\\\\OneDrive\\\\\\\\Documents\\\\\\\\Dudu\\\\\\\\Programming\\\\\\\\Py4Econ\\\\\\\\Homework\\\\Modules', 'c:\\\\\\\\Users\\\\dudul\\\\\\\\OneDrive\\\\\\\\Documents\\\\\\\\Dudu\\\\\\\\Programming\\\\\\\\Py4Econ\\\\\\\\Homework\\\\Modules', 'c:\\\\Users\\\\dudul\\\\OneDrive\\\\Documents\\\\Dudu\\\\Programming\\\\Py4Econ\\\\Homework\\\\Modules', 'c:\\\\Users\\\\dudul\\\\OneDrive\\\\Documents\\\\Dudu\\\\Programming\\\\Py4Econ\\\\Homework\\\\Modules', 'c:\\\\Users\\\\dudul\\\\OneDrive\\\\Documents\\\\Dudu\\\\Programming\\\\Py4Econ\\\\Homework\\\\Modules', 'c:\\\\Users\\\\dudul\\\\OneDrive\\\\Documents\\\\Dudu\\\\Programming\\\\Py4Econ\\\\Homework\\\\Modules', 'c:\\\\Users\\\\dudul\\\\OneDrive\\\\Documents\\\\Dudu\\\\Programming\\\\Py4Econ\\\\Homework\\\\Modules', 'c:\\\\Users\\\\dudul\\\\OneDrive\\\\Documents\\\\Dudu\\\\Programming\\\\Py4Econ\\\\Homework\\\\Modules', 'c:\\\\Users\\\\dudul\\\\OneDrive\\\\Documents\\\\Dudu\\\\Programming\\\\Py4Econ\\\\Homework\\\\Modules', 'c:\\\\Users\\\\dudul\\\\OneDrive\\\\Documents\\\\Dudu\\\\Programming\\\\Py4Econ\\\\Homework\\\\Modules', 'c:\\\\Users\\\\dudul\\\\OneDrive\\\\Documents\\\\Dudu\\\\Programming\\\\Py4Econ\\\\Homework\\\\Modules', 'c:\\\\Users\\\\dudul\\\\OneDrive\\\\Documents\\\\Dudu\\\\Programming\\\\Py4Econ\\\\Homework\\\\Modules', 'c:\\\\Users\\\\dudul\\\\OneDrive\\\\Documents\\\\Dudu\\\\Programming\\\\Py4Econ\\\\Homework\\\\Modules', 'c:\\\\Users\\\\dudul\\\\OneDrive\\\\Documents\\\\Dudu\\\\Programming\\\\Py4Econ\\\\Homework\\\\Modules', 'c:\\\\Users\\\\dudul\\\\OneDrive\\\\Documents\\\\Dudu\\\\Programming\\\\Py4Econ\\\\Homework\\\\Modules', 'c:\\\\Users\\\\dudul\\\\OneDrive\\\\Documents\\\\Dudu\\\\Programming\\\\Py4Econ\\\\Homework\\\\Modules', 'c:\\\\Users\\\\dudul\\\\OneDrive\\\\Documents\\\\Dudu\\\\Programming\\\\Py4Econ\\\\Homework\\\\Modules', 'c:\\\\Users\\\\dudul\\\\OneDrive\\\\Documents\\\\Dudu\\\\Programming\\\\Py4Econ\\\\Homework\\\\Modules', 'c:\\\\Users\\\\dudul\\\\OneDrive\\\\Documents\\\\Dudu\\\\Programming\\\\Py4Econ\\\\Homework\\\\Modules', 'c:\\\\Users\\\\dudul\\\\OneDrive\\\\Documents\\\\Dudu\\\\Programming\\\\Py4Econ\\\\Homework\\\\Modules', 'c:\\\\Users\\\\dudul\\\\OneDrive\\\\Documents\\\\Dudu\\\\Programming\\\\Py4Econ\\\\Homework\\\\Modules', 'c:\\\\Users\\\\dudul\\\\OneDrive\\\\Documents\\\\Dudu\\\\Programming\\\\Py4Econ\\\\Homework\\\\Modules', 'c:\\\\Users\\\\dudul\\\\OneDrive\\\\Documents\\\\Dudu\\\\Programming\\\\Py4Econ\\\\Homework\\\\Modules', 'c:\\\\Users\\\\dudul\\\\OneDrive\\\\Documents\\\\Dudu\\\\Programming\\\\Py4Econ\\\\Homework\\\\Modules', 'c:\\\\Users\\\\dudul\\\\OneDrive\\\\Documents\\\\Dudu\\\\Programming\\\\Py4Econ\\\\Homework\\\\Modules', 'c:\\\\Users\\\\dudul\\\\OneDrive\\\\Documents\\\\Dudu\\\\Programming\\\\Py4Econ\\\\Homework\\\\Modules', 'c:\\\\Users\\\\dudul\\\\OneDrive\\\\Documents\\\\Dudu\\\\Programming\\\\Py4Econ\\\\Homework\\\\Modules', 'c:\\\\Users\\\\dudul\\\\OneDrive\\\\Documents\\\\Dudu\\\\Programming\\\\Py4Econ\\\\Homework\\\\Modules', 'c:\\\\Users\\\\dudul\\\\OneDrive\\\\Documents\\\\Dudu\\\\Programming\\\\Py4Econ\\\\Homework\\\\Modules', 'c:\\\\Users\\\\dudul\\\\OneDrive\\\\Documents\\\\Dudu\\\\Programming\\\\Py4Econ\\\\Homework\\\\Modules', 'c:\\\\Users\\\\dudul\\\\OneDrive\\\\Documents\\\\Dudu\\\\Programming\\\\Py4Econ\\\\Homework\\\\Modules', 'c:\\\\Users\\\\dudul\\\\OneDrive\\\\Documents\\\\Dudu\\\\Programming\\\\Py4Econ\\\\Homework\\\\Modules', 'c:\\\\Users\\\\dudul\\\\OneDrive\\\\Documents\\\\Dudu\\\\Programming\\\\Py4Econ\\\\Homework\\\\Modules', 'c:\\\\Users\\\\dudul\\\\OneDrive\\\\Documents\\\\Dudu\\\\Programming\\\\Py4Econ\\\\Homework\\\\Modules', 'c:\\\\Users\\\\dudul\\\\OneDrive\\\\Documents\\\\Dudu\\\\Programming\\\\Py4Econ\\\\Homework\\\\Modules', 'c:\\\\Users\\\\dudul\\\\OneDrive\\\\Documents\\\\Dudu\\\\Programming\\\\Py4Econ\\\\Homework\\\\Modules', 'c:\\\\Users\\\\dudul\\\\OneDrive\\\\Documents\\\\Dudu\\\\Programming\\\\Py4Econ\\\\Homework\\\\Modules', 'c:\\\\Users\\\\dudul\\\\OneDrive\\\\Documents\\\\Dudu\\\\Programming\\\\Py4Econ\\\\Homework\\\\Modules', 'c:\\\\Users\\\\dudul\\\\OneDrive\\\\Documents\\\\Dudu\\\\Programming\\\\Py4Econ\\\\Homework\\\\Modules', 'c:\\\\Users\\\\dudul\\\\OneDrive\\\\Documents\\\\Dudu\\\\Programming\\\\Py4Econ\\\\Homework\\\\Modules', 'c:\\\\Users\\\\dudul\\\\OneDrive\\\\Documents\\\\Dudu\\\\Programming\\\\Py4Econ\\\\Homework\\\\Modules', 'c:\\\\Users\\\\dudul\\\\OneDrive\\\\Documents\\\\Dudu\\\\Programming\\\\Py4Econ\\\\Homework\\\\Modules', 'c:\\\\Users\\\\dudul\\\\OneDrive\\\\Documents\\\\Dudu\\\\Programming\\\\Py4Econ\\\\Homework\\\\Modules', 'c:\\\\Users\\\\dudul\\\\OneDrive\\\\Documents\\\\Dudu\\\\Programming\\\\Py4Econ\\\\Homework\\\\Modules', 'c:\\\\Users\\\\dudul\\\\OneDrive\\\\Documents\\\\Dudu\\\\Programming\\\\Py4Econ\\\\Homework\\\\Modules', 'c:\\\\Users\\\\dudul\\\\OneDrive\\\\Documents\\\\Dudu\\\\Programming\\\\Py4Econ\\\\Homework\\\\Modules', 'c:\\\\Users\\\\dudul\\\\OneDrive\\\\Documents\\\\Dudu\\\\Programming\\\\Py4Econ\\\\Homework\\\\Modules', 'c:\\\\Users\\\\dudul\\\\OneDrive\\\\Documents\\\\Dudu\\\\Programming\\\\Py4Econ\\\\Homework\\\\Modules', 'c:\\\\Users\\\\dudul\\\\OneDrive\\\\Documents\\\\Dudu\\\\Programming\\\\Py4Econ\\\\Homework\\\\Modules', 'c:\\\\Users\\\\dudul\\\\OneDrive\\\\Documents\\\\Dudu\\\\Programming\\\\Py4Econ\\\\Homework\\\\Modules', 'c:\\\\Users\\\\dudul\\\\OneDrive\\\\Documents\\\\Dudu\\\\Programming\\\\Py4Econ\\\\Homework\\\\Modules', 'c:\\\\Users\\\\dudul\\\\OneDrive\\\\Documents\\\\Dudu\\\\Programming\\\\Py4Econ\\\\Homework\\\\Modules', 'c:\\\\Users\\\\dudul\\\\OneDrive\\\\Documents\\\\Dudu\\\\Programming\\\\Py4Econ\\\\Homework\\\\Modules', 'c:\\\\Users\\\\dudul\\\\OneDrive\\\\Documents\\\\Dudu\\\\Programming\\\\Py4Econ\\\\Homework\\\\Modules', 'c:\\\\Users\\\\dudul\\\\OneDrive\\\\Documents\\\\Dudu\\\\Programming\\\\Py4Econ\\\\Homework\\\\Modules', 'c:\\\\Users\\\\dudul\\\\OneDrive\\\\Documents\\\\Dudu\\\\Programming\\\\Py4Econ\\\\Homework\\\\Modules', 'c:\\\\Users\\\\dudul\\\\OneDrive\\\\Documents\\\\Dudu\\\\Programming\\\\Py4Econ\\\\Homework\\\\Modules', 'c:\\\\Users\\\\dudul\\\\OneDrive\\\\Documents\\\\Dudu\\\\Programming\\\\Py4Econ\\\\Homework\\\\Modules', 'c:\\\\Users\\\\dudul\\\\OneDrive\\\\Documents\\\\Dudu\\\\Programming\\\\Py4Econ\\\\Homework\\\\Modules', 'c:\\\\Users\\\\dudul\\\\OneDrive\\\\Documents\\\\Dudu\\\\Programming\\\\Py4Econ\\\\Homework\\\\Modules', 'c:\\\\Users\\\\dudul\\\\OneDrive\\\\Documents\\\\Dudu\\\\Programming\\\\Py4Econ\\\\Homework\\\\Modules']\n"
     ]
    },
    {
     "data": {
      "text/plain": [
       "5040"
      ]
     },
     "execution_count": 109,
     "metadata": {},
     "output_type": "execute_result"
    }
   ],
   "source": [
    "import pandas as pd\n",
    "import numpy as np\n",
    "import os\n",
    "print(os.getcwd()) # current working directory will be printed\n",
    "# setting main dir is useful\n",
    "m_dir = r\"c:\\Users\\dudul\\OneDrive\\Documents\\Dudu\\Programming\\Py4Econ\\Homework\"\n",
    "import sys # system parameters\n",
    "print(sys.path) # all folders in path \n",
    "sys.path.append(m_dir + os.sep + 'Modules') #  os.sep = \\ add folder to path m_dir\\\\module. mdir/module\n",
    "#print(sys.path) # all folders in path\n",
    "\n",
    "#import my_module as mm\n",
    "import my_module as mm\n",
    "mm.list_product([1,2,3,4,5,6,7])\n"
   ]
  }
 ],
 "metadata": {
  "kernelspec": {
   "display_name": "base",
   "language": "python",
   "name": "python3"
  },
  "language_info": {
   "codemirror_mode": {
    "name": "ipython",
    "version": 3
   },
   "file_extension": ".py",
   "mimetype": "text/x-python",
   "name": "python",
   "nbconvert_exporter": "python",
   "pygments_lexer": "ipython3",
   "version": "3.11.5"
  }
 },
 "nbformat": 4,
 "nbformat_minor": 2
}
